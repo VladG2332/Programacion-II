{
  "nbformat": 4,
  "nbformat_minor": 0,
  "metadata": {
    "colab": {
      "name": "Metodos.ipynb",
      "provenance": [],
      "authorship_tag": "ABX9TyM/DBRmsNRxnAphNXs8M9Wi",
      "include_colab_link": true
    },
    "kernelspec": {
      "name": "python3",
      "display_name": "Python 3"
    },
    "language_info": {
      "name": "python"
    }
  },
  "cells": [
    {
      "cell_type": "markdown",
      "metadata": {
        "id": "view-in-github",
        "colab_type": "text"
      },
      "source": [
        "<a href=\"https://colab.research.google.com/github/VladG2332/Programacion-II/blob/main/Metodos.ipynb\" target=\"_parent\"><img src=\"https://colab.research.google.com/assets/colab-badge.svg\" alt=\"Open In Colab\"/></a>"
      ]
    },
    {
      "cell_type": "markdown",
      "source": [
        "Programa utilizando métodos.\n",
        "Suma, resta, multiplicación y división.\n",
        "24/08/2022\n",
        "Creador: Iker Vladislav Huerta Galkina.\n",
        "No Control: 21590080."
      ],
      "metadata": {
        "id": "GQyCD5M9pwqn"
      }
    },
    {
      "cell_type": "code",
      "execution_count": 1,
      "metadata": {
        "colab": {
          "base_uri": "https://localhost:8080/"
        },
        "id": "a-1vj8D5puTz",
        "outputId": "a4e63a45-96d8-4b76-fb55-3654f1f1d591"
      },
      "outputs": [
        {
          "output_type": "stream",
          "name": "stdout",
          "text": [
            "Elija una opción:\n",
            "1. Sumar\n",
            "2. Restar\n",
            "3. Multiplicar\n",
            "4. Dividir\n",
            "5. Salir\n",
            "Opción: 5\n",
            "Gracias\n"
          ]
        }
      ],
      "source": [
        "def Sumar(x1, x2):\n",
        "    print(x1, \" + \", x2, \" = \", x1 + x2)\n",
        "\n",
        "def Restar(x1, x2):\n",
        "    print(x1, \" - \", x2, \" = \", x1 - x2)\n",
        "\n",
        "def Multiplicar(x1, x2):\n",
        "    print(x1, \" x \", x2, \" = \", x1 * x2)\n",
        "\n",
        "def Dividir(x1, x2):\n",
        "    print(x1, \" / \", x2, \" = \", x1 / x2)\n",
        "\n",
        "opcion = \"\"\n",
        "while (opcion != \"5\"):\n",
        "    opcion = input(\"Elija una opción:\\n1. Sumar\\n2. Restar\\n3. Multiplicar\\n4. Dividir\\n5. Salir\\nOpción: \")\n",
        "\n",
        "    if(opcion == \"1\"):\n",
        "        x1 = int(input(\"Ingresar Primer Número: \"))\n",
        "        x2 = int(input(\"Ingresar Segundo Número: \"))\n",
        "        Sumar(x1, x2)\n",
        "\n",
        "    elif(opcion == \"2\"):\n",
        "        x1 = int(input(\"Ingresar Primer Número: \"))\n",
        "        x2 = int(input(\"Ingresar Segundo Número: \"))\n",
        "        Restar(x1, x2)\n",
        "\n",
        "    elif(opcion == \"3\"):\n",
        "        x1 = int(input(\"Ingresar Primer Número: \"))\n",
        "        x2 = int(input(\"Ingresar Segundo Número: \"))\n",
        "        Multiplicar(x1, x2)\n",
        "\n",
        "    elif(opcion == \"4\"):\n",
        "        x1 = int(input(\"Ingresar Primer Número: \"))\n",
        "        x2 = int(input(\"Ingresar Segundo Número: \"))\n",
        "        Dividir(x1, x2)\n",
        "\n",
        "    elif(opcion == \"5\"):\n",
        "        print(\"Gracias\")\n",
        "    else:\n",
        "        print(\"Opción Inválida\")"
      ]
    }
  ]
}