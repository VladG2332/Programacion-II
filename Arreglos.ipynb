{
  "nbformat": 4,
  "nbformat_minor": 0,
  "metadata": {
    "colab": {
      "name": "Arreglos.ipynb",
      "provenance": [],
      "authorship_tag": "ABX9TyOpnhoTyyVEIeXtp609mYqW",
      "include_colab_link": true
    },
    "kernelspec": {
      "name": "python3",
      "display_name": "Python 3"
    },
    "language_info": {
      "name": "python"
    }
  },
  "cells": [
    {
      "cell_type": "markdown",
      "metadata": {
        "id": "view-in-github",
        "colab_type": "text"
      },
      "source": [
        "<a href=\"https://colab.research.google.com/github/VladG2332/Programacion-II/blob/main/Arreglos.ipynb\" target=\"_parent\"><img src=\"https://colab.research.google.com/assets/colab-badge.svg\" alt=\"Open In Colab\"/></a>"
      ]
    },
    {
      "cell_type": "markdown",
      "source": [
        "Programa que recibe una cadena de palabras y las divide dentro de un arreglo, permite buscar una palabra específica y regresa información acerca de esa palabra.\n",
        "Creador: Iker Vladislav Huerta Galkina.\n",
        "26/08/2022\n",
        "Num Control: 21590080."
      ],
      "metadata": {
        "id": "RDkOcrRlEyAT"
      }
    },
    {
      "cell_type": "code",
      "execution_count": 1,
      "metadata": {
        "colab": {
          "base_uri": "https://localhost:8080/"
        },
        "id": "ftazqYNKEvls",
        "outputId": "ddd3deee-2c12-473c-9caa-b0b774bf4569"
      },
      "outputs": [
        {
          "output_type": "stream",
          "name": "stdout",
          "text": [
            "Ingresar texto: hola como estas hola como estas hola como estas\n",
            "Ingrese palabra a buscar: hola\n",
            "Tamaño del arreglo:  9\n",
            "Cantidad de veces en arreglo: 3\n",
            "La palabra SI se encuentra en el arreglo\n"
          ]
        }
      ],
      "source": [
        "arreglo = []\n",
        "texto = \"\"\n",
        "x = 0\n",
        "buscar = \"\"\n",
        "\n",
        "def ArregloPalabras():\n",
        "    texto = input(\"Ingresar texto: \")\n",
        "\n",
        "    arreglo = texto.split()\n",
        "\n",
        "    buscar = input(\"Ingrese palabra a buscar: \")\n",
        "    x = arreglo.count(buscar)\n",
        "\n",
        "    print(\"Tamaño del arreglo: \", len(arreglo))\n",
        "\n",
        "    print(\"Cantidad de veces en arreglo:\", x)\n",
        "\n",
        "    if x == 0:\n",
        "        print(\"La palabra no se encuentra en el arreglo\")\n",
        "    else:\n",
        "        print(\"La palabra SI se encuentra en el arreglo\")\n",
        "\n",
        "ArregloPalabras()"
      ]
    }
  ]
}