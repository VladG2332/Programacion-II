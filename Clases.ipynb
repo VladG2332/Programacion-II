{
  "nbformat": 4,
  "nbformat_minor": 0,
  "metadata": {
    "colab": {
      "name": "Clases.ipynb",
      "provenance": [],
      "authorship_tag": "ABX9TyOkkJO9xLJ4YDt4liZltwzh",
      "include_colab_link": true
    },
    "kernelspec": {
      "name": "python3",
      "display_name": "Python 3"
    },
    "language_info": {
      "name": "python"
    }
  },
  "cells": [
    {
      "cell_type": "markdown",
      "metadata": {
        "id": "view-in-github",
        "colab_type": "text"
      },
      "source": [
        "<a href=\"https://colab.research.google.com/github/VladG2332/Programacion-II/blob/main/Clases.ipynb\" target=\"_parent\"><img src=\"https://colab.research.google.com/assets/colab-badge.svg\" alt=\"Open In Colab\"/></a>"
      ]
    },
    {
      "cell_type": "markdown",
      "source": [
        "Programa orientado a objetos, combinando arreglos y métodos vistos en clases anteriores.\n",
        "Creador: Iker Vladislav Huerta Galkina.\n",
        "26/08/2022\n",
        "Num Control: 21590080"
      ],
      "metadata": {
        "id": "6U9xCl-HJ1mo"
      }
    },
    {
      "cell_type": "code",
      "execution_count": null,
      "metadata": {
        "id": "SdT5_kQMJNUA"
      },
      "outputs": [],
      "source": [
        "class matematicas:\n",
        "    def arregloPalabras(texto):\n",
        "        arreglo = texto.split()\n",
        "        buscar = input(\"Ingrese palabra a buscar\")\n",
        "        x = arreglo.count(buscar)\n",
        "        print(\"Se encontró \", x, \" veces la palabra\")\n",
        "        print(\"Tamaño del arreglo: \", len(arreglo))\n",
        "        if(x == 0):\n",
        "            print(\"La palabra NO existe en el arreglo\")\n",
        "        else:\n",
        "            print(\"La palabra SI existe en el arreglo\")\n",
        "\n",
        "    def Sumar(x1, x2):\n",
        "        print(x1, \" + \", x2, \" = \", x1 + x2)\n",
        "\n",
        "    def Restar(x1, x2):\n",
        "        print(x1, \" - \", x2, \" = \", x1 - x2)\n",
        "\n",
        "    def Multiplicar(x1, x2):\n",
        "        print(x1, \" x \", x2, \" = \", x1 * x2)\n",
        "\n",
        "    def Dividir(x1, x2):\n",
        "        print(x1, \" / \", x2, \" = \", x1 / x2)\n",
        "\n",
        "class UsoMatematicas:\n",
        "    obj = matematicas\n",
        "    opcion = \"\"\n",
        "\n",
        "    while (opcion != \"6\"):\n",
        "        opcion = input(\"Elija una opción:\\n1. Sumar\\n2. Restar\\n3. Multiplicar\\n4. Dividir\\n5. Arreglo Palabras\\n6. Salir\\nOpción: \")\n",
        "\n",
        "        if (opcion == \"1\"):\n",
        "            x1 = int(input(\"Ingresar Primer Número: \"))\n",
        "            x2 = int(input(\"Ingresar Segundo Número: \"))\n",
        "            obj.Sumar(x1, x2)\n",
        "\n",
        "        elif (opcion == \"2\"):\n",
        "            x1 = int(input(\"Ingresar Primer Número: \"))\n",
        "            x2 = int(input(\"Ingresar Segundo Número: \"))\n",
        "            obj.Restar(x1, x2)\n",
        "\n",
        "        elif (opcion == \"3\"):\n",
        "            x1 = int(input(\"Ingresar Primer Número: \"))\n",
        "            x2 = int(input(\"Ingresar Segundo Número: \"))\n",
        "            obj.Multiplicar(x1, x2)\n",
        "\n",
        "        elif (opcion == \"4\"):\n",
        "            x1 = int(input(\"Ingresar Primer Número: \"))\n",
        "            x2 = int(input(\"Ingresar Segundo Número: \"))\n",
        "            obj.Dividir(x1, x2)\n",
        "\n",
        "        elif (opcion == \"5\"):\n",
        "            texto = input(\"Ingrese texto: \")\n",
        "            obj.arregloPalabras(texto)\n",
        "        elif (opcion == \"6\"):\n",
        "            print(\"Gracias\")\n",
        "        else:\n",
        "            print(\"Opción Inválida\")\n"
      ]
    }
  ]
}